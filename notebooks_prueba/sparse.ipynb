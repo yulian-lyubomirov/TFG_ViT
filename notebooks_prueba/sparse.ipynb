{
 "cells": [
  {
   "cell_type": "code",
   "execution_count": null,
   "metadata": {},
   "outputs": [],
   "source": [
    "import torch\n",
    "from models.sparse_vit import Sparse_ViT\n",
    "from models.vit import ViT\n",
    "from functions.data_loader import get_data_loader,load_lists_from_file,load_checkpoint,get_random_image\n",
    "from functions.train_test import test,train\n",
    "from functions.helpers import count_parameters\n",
    "from functions.plotter import plot_loss_accuracy,plot_accuracy_comparison,plot_feature_maps_strided\n",
    "\n",
    "#https://github.com/kyegomez/SparseAttention"
   ]
  },
  {
   "cell_type": "code",
   "execution_count": null,
   "metadata": {},
   "outputs": [],
   "source": [
    "train_loader,test_loader = get_data_loader(80,2,\"datasets/cifar-100/cifar-100-python\",download=False)"
   ]
  },
  {
   "cell_type": "code",
   "execution_count": null,
   "metadata": {},
   "outputs": [],
   "source": [
    "model = Sparse_ViT(    \n",
    "    image_size=32,\n",
    "    patch_size=4,\n",
    "    num_classes=100,\n",
    "    dim=64,\n",
    "    depth=4,\n",
    "    heads=8,\n",
    "    mlp_dim=256,\n",
    "    dropout=0.1,\n",
    "    pool='mean'\n",
    ").to(\"cpu\") "
   ]
  },
  {
   "cell_type": "code",
   "execution_count": null,
   "metadata": {},
   "outputs": [],
   "source": [
    "x,img =get_random_image('bee')\n",
    "load_checkpoint(model,'save_model/cifar-100/sparse_vit/best_model.pt')\n",
    "plot_feature_maps_strided(model,x,img)"
   ]
  },
  {
   "cell_type": "code",
   "execution_count": null,
   "metadata": {},
   "outputs": [],
   "source": [
    "sparse_vit_save_path = 'save_model/cifar-100/sparse_vit'"
   ]
  },
  {
   "cell_type": "code",
   "execution_count": null,
   "metadata": {},
   "outputs": [],
   "source": [
    "train(\n",
    "    model,\n",
    "    train_loader,\n",
    "    test_loader,\n",
    "    epochs=30,\n",
    "    learning_rate=0.001,\n",
    "    device=\"cuda\",\n",
    "    weight_decay=0.0005,\n",
    "    save_path=sparse_vit_save_path,\n",
    ")"
   ]
  },
  {
   "cell_type": "code",
   "execution_count": null,
   "metadata": {},
   "outputs": [],
   "source": [
    "base_model = ViT(    \n",
    "    image_size=32,\n",
    "    patch_size=4,\n",
    "    num_classes=100,\n",
    "    dim=64,\n",
    "    depth=4,\n",
    "    heads=8,\n",
    "    mlp_dim=256,\n",
    "    dropout=0.1,\n",
    ").to(\"cuda\") "
   ]
  },
  {
   "cell_type": "code",
   "execution_count": null,
   "metadata": {},
   "outputs": [],
   "source": [
    "base_save_path = 'save_model/cifar-100/vit_base2'\n",
    "train(\n",
    "    base_model,\n",
    "    train_loader,\n",
    "    test_loader,\n",
    "    epochs=30,\n",
    "    learning_rate=0.001,\n",
    "    device=\"cuda\",\n",
    "    weight_decay=0.0005,\n",
    "    # save_path=base_save_path,\n",
    ")"
   ]
  },
  {
   "cell_type": "code",
   "execution_count": null,
   "metadata": {},
   "outputs": [],
   "source": [
    "loss,base_model_accuracy=load_lists_from_file(\"save_model/cifar-100/vit_base/loss_and_accuracy\")\n",
    "loss2,sparse_model_accuracy= load_lists_from_file(\"save_model/cifar-100/sparse_vit/loss_and_accuracy\")"
   ]
  },
  {
   "cell_type": "code",
   "execution_count": null,
   "metadata": {},
   "outputs": [],
   "source": [
    "plot_accuracy_comparison(base_model_accuracy,sparse_model_accuracy,'base_ViT','sparse_ViT')"
   ]
  },
  {
   "cell_type": "code",
   "execution_count": null,
   "metadata": {},
   "outputs": [],
   "source": [
    "load_checkpoint(model,f\"{sparse_vit_save_path}/best_model.pt\")\n",
    "test(model,test_loader,'cuda')"
   ]
  },
  {
   "cell_type": "code",
   "execution_count": null,
   "metadata": {},
   "outputs": [],
   "source": []
  },
  {
   "cell_type": "code",
   "execution_count": null,
   "metadata": {},
   "outputs": [],
   "source": []
  },
  {
   "cell_type": "code",
   "execution_count": null,
   "metadata": {},
   "outputs": [],
   "source": [
    "count_parameters(model)\n"
   ]
  },
  {
   "cell_type": "code",
   "execution_count": null,
   "metadata": {},
   "outputs": [],
   "source": [
    "count_parameters(base_model)"
   ]
  },
  {
   "cell_type": "code",
   "execution_count": null,
   "metadata": {},
   "outputs": [],
   "source": []
  }
 ],
 "metadata": {
  "kernelspec": {
   "display_name": "base",
   "language": "python",
   "name": "python3"
  },
  "language_info": {
   "codemirror_mode": {
    "name": "ipython",
    "version": 3
   },
   "file_extension": ".py",
   "mimetype": "text/x-python",
   "name": "python",
   "nbconvert_exporter": "python",
   "pygments_lexer": "ipython3",
   "version": "3.8.18"
  }
 },
 "nbformat": 4,
 "nbformat_minor": 2
}
