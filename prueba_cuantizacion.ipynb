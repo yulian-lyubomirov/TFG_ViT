{
 "cells": [
  {
   "cell_type": "code",
   "execution_count": null,
   "metadata": {},
   "outputs": [],
   "source": [
    "import torch\n",
    "import torch.nn as nn\n",
    "import torch.quantization\n",
    "import os\n",
    "import numpy as np\n",
    "import torch.optim as optim\n",
    "import matplotlib.pyplot as plt\n",
    "from train_test import test, train, train_kd, test_batch\n",
    "from helpers import get_data_loader, quantize_model\n",
    "from model import ViT\n",
    "from helpers import load_checkpoint, get_model_size_bytes\n",
    "import time\n",
    "import copy\n",
    "\n",
    "import torch.ao.quantization.quantize_fx as quantize_fx\n",
    "import onnx\n",
    "\n",
    "\n",
    "import torch.nn.utils.prune as prune\n",
    "import torch.nn.functional as F"
   ]
  },
  {
   "cell_type": "code",
   "execution_count": null,
   "metadata": {},
   "outputs": [],
   "source": [
    "torch.manual_seed(42)\n",
    "train_loader, test_loader = get_data_loader(\n",
    "    1024, 2, \"datasets/cifar-100/cifar-100-python\", download=True\n",
    ")"
   ]
  },
  {
   "cell_type": "code",
   "execution_count": null,
   "metadata": {},
   "outputs": [],
   "source": [
    "model = ViT(\n",
    "    image_size=32,\n",
    "    patch_size=4,\n",
    "    num_classes=100,\n",
    "    dim=128,\n",
    "    depth=3,\n",
    "    heads=3,\n",
    "    mlp_dim=256,\n",
    "    dropout=0.1,\n",
    ").to(\"cpu\")"
   ]
  },
  {
   "cell_type": "code",
   "execution_count": null,
   "metadata": {},
   "outputs": [],
   "source": [
    "train(\n",
    "    model,\n",
    "    train_loader,\n",
    "    test_loader,\n",
    "    epochs=5,\n",
    "    learning_rate=0.001,\n",
    "    device=\"cuda\",\n",
    "    pruning_method=\"structured\",\n",
    "    weight_decay=0.0005,\n",
    ")"
   ]
  },
  {
   "cell_type": "code",
   "execution_count": null,
   "metadata": {},
   "outputs": [],
   "source": [
    "model = ViT(\n",
    "    image_size=32,\n",
    "    patch_size=4,\n",
    "    num_classes=100,\n",
    "    dim=128,\n",
    "    depth=3,\n",
    "    heads=3,\n",
    "    mlp_dim=256,\n",
    "    dropout=0.1,\n",
    ").to(\"cpu\")\n",
    "\n",
    "model_save_path = \"save_model/cifar-100/vit_16_teacher_cifar-100\"\n",
    "\n",
    "model_load_path = f\"{model_save_path}/best_model.pt\"\n",
    "\n",
    "load_checkpoint(model, f\"{model_load_path}\")"
   ]
  },
  {
   "cell_type": "code",
   "execution_count": null,
   "metadata": {},
   "outputs": [],
   "source": [
    "model.to(\"cpu\")\n",
    "model.eval()\n",
    "backend = \"x86\"\n",
    "model.qconfig = torch.quantization.get_default_qconfig(backend)\n",
    "torch.backends.quantized.engine = backend\n",
    "model_static_quantized = torch.quantization.prepare(model, inplace=False)\n",
    "model_static_quantized = torch.quantization.convert(\n",
    "    model_static_quantized, inplace=False\n",
    ")\n",
    "model_static_quantized.to(\"cpu\")"
   ]
  },
  {
   "cell_type": "code",
   "execution_count": null,
   "metadata": {},
   "outputs": [],
   "source": [
    "batch_array = []\n",
    "\n",
    "for batch in test_loader:\n",
    "    batch_array.append(batch)"
   ]
  },
  {
   "cell_type": "code",
   "execution_count": null,
   "metadata": {},
   "outputs": [],
   "source": [
    "inference_time_pruned = 0\n",
    "start_time = time.time()\n",
    "for _ in range(20):\n",
    "    for image_batch in batch_array:\n",
    "        with torch.no_grad():\n",
    "            test_batch(model_static_quantized, image_batch[0], device=\"cpu\")\n",
    "    inference_time_pruned += time.time() - start_time\n",
    "print(f\"model_quantized_time: {inference_time_pruned} \")"
   ]
  },
  {
   "cell_type": "code",
   "execution_count": null,
   "metadata": {},
   "outputs": [],
   "source": []
  }
 ],
 "metadata": {
  "kernelspec": {
   "display_name": "base",
   "language": "python",
   "name": "python3"
  },
  "language_info": {
   "codemirror_mode": {
    "name": "ipython",
    "version": 3
   },
   "file_extension": ".py",
   "mimetype": "text/x-python",
   "name": "python",
   "nbconvert_exporter": "python",
   "pygments_lexer": "ipython3",
   "version": "3.8.18"
  }
 },
 "nbformat": 4,
 "nbformat_minor": 2
}
