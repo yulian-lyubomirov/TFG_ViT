{
 "cells": [
  {
   "cell_type": "code",
   "execution_count": null,
   "metadata": {},
   "outputs": [],
   "source": [
    "import torch\n",
    "from models.vit import ViT\n",
    "from models.ViT_CNN import ViT_CNN\n",
    "from models.ViT_CNN_early_exit import ViT_CNN_early_exit\n",
    "from functions import train_test\n",
    "from functions import plotter\n",
    "from functions import helpers\n",
    "from functions import data_loader"
   ]
  },
  {
   "cell_type": "code",
   "execution_count": null,
   "metadata": {},
   "outputs": [],
   "source": [
    "torch.manual_seed(42)"
   ]
  },
  {
   "cell_type": "markdown",
   "metadata": {},
   "source": [
    "CIFAR-100\n"
   ]
  },
  {
   "cell_type": "code",
   "execution_count": null,
   "metadata": {},
   "outputs": [],
   "source": [
    "train_loader, test_loader = data_loader.get_data_loader(\n",
    "    80, 2, \"datasets/cifar-100/cifar-100-python\", download=True\n",
    ")"
   ]
  },
  {
   "cell_type": "markdown",
   "metadata": {},
   "source": [
    "CNN+ViT"
   ]
  },
  {
   "cell_type": "code",
   "execution_count": null,
   "metadata": {},
   "outputs": [],
   "source": [
    "base_model = ViT(\n",
    "    image_size=32,\n",
    "    patch_size=4,\n",
    "    num_classes=100,\n",
    "    dim=64,\n",
    "    depth=4,\n",
    "    heads=8,\n",
    "    mlp_dim=256,\n",
    "    dropout=0.1,\n",
    ").to(\n",
    "    \"cpu\"\n",
    ")  # cpu for feature visualisation\n",
    "base_model_load_path = f\"save_model/cifar-100/vit_base/best_model.pt\"\n",
    "print(f\"Total parameters:{helpers.count_parameters(base_model)}\")\n",
    "data_loader.load_checkpoint(base_model, base_model_load_path)\n",
    "base_model_acc = train_test.test(base_model, test_loader, \"cuda\")\n",
    "base_model_loss_list, base_model_accuracy_list = data_loader.load_lists_from_file(\n",
    "    \"save_model/cifar-100/vit_base/loss_and_accuracy\"\n",
    ")\n",
    "plotter.plot_loss_accuracy(base_model_loss_list, base_model_accuracy_list, \"base_model\")"
   ]
  },
  {
   "cell_type": "markdown",
   "metadata": {},
   "source": [
    "CNN pre ViT feautre extraction + CNN patch embedding"
   ]
  },
  {
   "cell_type": "code",
   "execution_count": null,
   "metadata": {},
   "outputs": [],
   "source": [
    "ViT_CNN_model = ViT_CNN(\n",
    "    image_size=32,\n",
    "    patch_size=4,\n",
    "    num_classes=100,\n",
    "    dim=64,\n",
    "    depth=2,\n",
    "    heads=4,\n",
    "    mlp_dim=256,\n",
    "    dropout=0.1,\n",
    ").to(\n",
    "    \"cpu\"\n",
    ")  # cpu for feature visualisation\n",
    "ViT_CNN_model_load_path = \"save_model/cifar-100/ViT_CNN/best_model.pt\"\n",
    "print(f\"Total parameters:{helpers.count_parameters(ViT_CNN_model)}\")\n",
    "data_loader.load_checkpoint(ViT_CNN_model, ViT_CNN_model_load_path)\n",
    "ViT_CNN_model_acc = train_test.test(ViT_CNN_model, test_loader, \"cuda\")\n",
    "ViT_CNN_model_loss_list, ViT_CNN_model_accuracy_list = data_loader.load_lists_from_file(\n",
    "    \"save_model/cifar-100/ViT_CNN/loss_and_accuracy\"\n",
    ")\n",
    "plotter.plot_loss_accuracy(\n",
    "    ViT_CNN_model_loss_list, ViT_CNN_model_accuracy_list, \"ViT_CNN_model\"\n",
    ")"
   ]
  },
  {
   "cell_type": "code",
   "execution_count": null,
   "metadata": {},
   "outputs": [],
   "source": [
    "plotter.plot_accuracy_comparison(\n",
    "    [ViT_CNN_model_accuracy_list, base_model_accuracy_list],\n",
    "    [\"ViT_CNN_model\", \"ViT_base_model\"],\n",
    ")"
   ]
  },
  {
   "cell_type": "code",
   "execution_count": null,
   "metadata": {},
   "outputs": [],
   "source": [
    "data_loader.create_comparison_table(\n",
    "    [base_model, ViT_CNN_model],\n",
    "    [base_model_acc, ViT_CNN_model_acc],\n",
    "    [\"ViT_base_model\", \"ViT_CNN_model\"],\n",
    ")"
   ]
  },
  {
   "cell_type": "markdown",
   "metadata": {},
   "source": []
  },
  {
   "cell_type": "code",
   "execution_count": null,
   "metadata": {},
   "outputs": [],
   "source": [
    "base_model.to(\"cpu\")\n",
    "x, img = data_loader.get_random_image(\"bee\")\n",
    "plotter.plot_feature_maps(base_model, x, img, device=\"cpu\")"
   ]
  },
  {
   "cell_type": "code",
   "execution_count": null,
   "metadata": {},
   "outputs": [],
   "source": [
    "ViT_CNN_model.to(\"cpu\")\n",
    "plotter.plot_feature_maps(ViT_CNN_model, x, img, device=\"cpu\")"
   ]
  },
  {
   "cell_type": "markdown",
   "metadata": {},
   "source": [
    "Knowledge distillation"
   ]
  },
  {
   "cell_type": "markdown",
   "metadata": {},
   "source": [
    "Student base model"
   ]
  },
  {
   "cell_type": "code",
   "execution_count": null,
   "metadata": {},
   "outputs": [],
   "source": [
    "student_base_model = ViT(\n",
    "    image_size=32,\n",
    "    patch_size=4,\n",
    "    num_classes=100,\n",
    "    dim=64,\n",
    "    depth=3,\n",
    "    heads=6,\n",
    "    mlp_dim=256,\n",
    "    dropout=0.1,\n",
    ").to(\"cuda\")\n",
    "student_base_load_path = \"save_model/cifar-100/vit_student_base/best_model.pt\"\n",
    "print(f\"Total parameters:{helpers.count_parameters(student_base_model)}\")\n",
    "data_loader.load_checkpoint(student_base_model, student_base_load_path)\n",
    "student_base_model_acc = train_test.test(student_base_model, test_loader, \"cuda\")\n",
    "(\n",
    "    student_base_model_loss_list,\n",
    "    student_base_model_accuracy_list,\n",
    ") = data_loader.load_lists_from_file(\n",
    "    \"save_model/cifar-100/vit_student_base/loss_and_accuracy\"\n",
    ")\n",
    "plotter.plot_loss_accuracy(\n",
    "    student_base_model_loss_list, student_base_model_accuracy_list, \"student_base_model\"\n",
    ")"
   ]
  },
  {
   "cell_type": "markdown",
   "metadata": {},
   "source": [
    "Response based kd\n"
   ]
  },
  {
   "cell_type": "code",
   "execution_count": null,
   "metadata": {},
   "outputs": [],
   "source": [
    "student_response_kd = ViT(\n",
    "    image_size=32,\n",
    "    patch_size=4,\n",
    "    num_classes=100,\n",
    "    dim=64,\n",
    "    depth=3,\n",
    "    heads=6,\n",
    "    mlp_dim=256,\n",
    "    dropout=0.1,\n",
    "    feature_distill=False,\n",
    ").to(\"cuda\")\n",
    "student_response_kd_path = \"save_model/cifar-100/vit_student_kd/best_model.pt\"\n",
    "print(f\"Total parameters:{helpers.count_parameters(student_response_kd)}\")\n",
    "data_loader.load_checkpoint(student_response_kd, student_response_kd_path)\n",
    "student_kd_acc = train_test.test(student_response_kd, test_loader, \"cuda\")\n",
    "student_kd_loss_list, student_kd_accuracy_list = data_loader.load_lists_from_file(\n",
    "    \"save_model/cifar-100/vit_student_kd/loss_and_accuracy\"\n",
    ")\n",
    "plotter.plot_loss_accuracy(student_kd_loss_list, student_kd_accuracy_list, \"student_kd\")"
   ]
  },
  {
   "cell_type": "markdown",
   "metadata": {},
   "source": [
    "Feature based kd"
   ]
  },
  {
   "cell_type": "code",
   "execution_count": null,
   "metadata": {},
   "outputs": [],
   "source": []
  },
  {
   "cell_type": "markdown",
   "metadata": {},
   "source": [
    "Combined response+feature kd"
   ]
  },
  {
   "cell_type": "code",
   "execution_count": null,
   "metadata": {},
   "outputs": [],
   "source": [
    "plotter.plot_accuracy_comparison(\n",
    "    [student_kd_accuracy_list, student_base_model_accuracy_list,base_model_accuracy_list],\n",
    "    [\"student_kd\", \"student_base_model\",\"base_model\"],\n",
    ")"
   ]
  },
  {
   "cell_type": "code",
   "execution_count": null,
   "metadata": {},
   "outputs": [],
   "source": [
    "data_loader.create_comparison_table(\n",
    "    [\n",
    "        base_model,\n",
    "        student_base_model,\n",
    "        student_response_kd,\n",
    "    ],\n",
    "    [base_model_acc,student_base_model_acc,student_kd_acc,],\n",
    "    [\"base_model\",\"student_kd\", \"student_base_model\"],\n",
    ")"
   ]
  },
  {
   "cell_type": "code",
   "execution_count": null,
   "metadata": {},
   "outputs": [],
   "source": [
    "# Add inference time comparison and co2 eq"
   ]
  },
  {
   "cell_type": "markdown",
   "metadata": {},
   "source": [
    "ViT_CNN early exit\n"
   ]
  },
  {
   "cell_type": "code",
   "execution_count": null,
   "metadata": {},
   "outputs": [],
   "source": [
    "ViT_CNN_early_exit_ = ViT_CNN_early_exit(\n",
    "    image_size=32,\n",
    "    dim=64,\n",
    "    patch_size=4,\n",
    "    num_classes=100,\n",
    "    depth=4,\n",
    "    heads=8,\n",
    "    mlp_dim=256,\n",
    "    dropout=0.1,\n",
    "    early_exit=False,\n",
    ").to(\"cuda\")\n",
    "ViT_early_exit_load_path = \"save_model/cifar-100/ViT_CNN_early_exit3/best_model.pt\"\n",
    "print(f\"Total parameters:{helpers.count_parameters(ViT_CNN_early_exit_)}\")\n",
    "data_loader.load_checkpoint(ViT_CNN_early_exit_, ViT_early_exit_load_path)"
   ]
  },
  {
   "cell_type": "code",
   "execution_count": null,
   "metadata": {},
   "outputs": [],
   "source": [
    "ViT_early_exitacc = train_test.test(ViT_CNN_early_exit_, test_loader, \"cuda\")\n"
   ]
  },
  {
   "cell_type": "code",
   "execution_count": null,
   "metadata": {},
   "outputs": [],
   "source": [
    "ViT_CNN_early_exit = ViT_CNN_early_exit(\n",
    "    image_size=32,\n",
    "    dim=64,\n",
    "    patch_size=4,\n",
    "    num_classes=100,\n",
    "    depth=4,\n",
    "    heads=8,\n",
    "    mlp_dim=256,\n",
    "    dropout=0.1,\n",
    "    early_exit=True,\n",
    ").to(\"cuda\")\n",
    "ViT_early_exit_load_path = \"save_model/cifar-100/ViT_CNN_early_exit3/best_model.pt\"\n",
    "print(f\"Total parameters:{helpers.count_parameters(ViT_CNN_early_exit)}\")\n",
    "data_loader.load_checkpoint(ViT_CNN_early_exit, ViT_early_exit_load_path)"
   ]
  },
  {
   "cell_type": "code",
   "execution_count": null,
   "metadata": {},
   "outputs": [],
   "source": [
    "train_loader_1_example, test_loader_1_example = data_loader.get_data_loader(\n",
    "    1, 2, \"datasets/cifar-100/cifar-100-python\", download=True\n",
    ")\n"
   ]
  },
  {
   "cell_type": "code",
   "execution_count": null,
   "metadata": {},
   "outputs": [],
   "source": [
    "\n",
    "ViT_CNN_early_exit_acc, num_early_exits = train_test.test(\n",
    "    ViT_CNN_early_exit, test_loader_1_example, \"cuda\"\n",
    ")\n",
    "\n"
   ]
  },
  {
   "cell_type": "code",
   "execution_count": null,
   "metadata": {},
   "outputs": [],
   "source": [
    "# plotter.plot_accuracy_comparison(\n",
    "#     [base_model_accuracy_list, ViT_CNN_early_exit_accuracy_list],\n",
    "#     [\"base_model\", \"ViT_CNN_early_exit\"],\n",
    "# )"
   ]
  },
  {
   "cell_type": "code",
   "execution_count": null,
   "metadata": {},
   "outputs": [],
   "source": [
    "data_loader.create_comparison_table(\n",
    "    [base_model, ViT_CNN_early_exit], [base_model_acc, ViT_CNN_early_exit_acc],\n",
    "    ['base_model','ViT_CNN_early_exit']\n",
    ")"
   ]
  },
  {
   "cell_type": "code",
   "execution_count": null,
   "metadata": {},
   "outputs": [],
   "source": []
  }
 ],
 "metadata": {
  "kernelspec": {
   "display_name": "base",
   "language": "python",
   "name": "python3"
  },
  "language_info": {
   "codemirror_mode": {
    "name": "ipython",
    "version": 3
   },
   "file_extension": ".py",
   "mimetype": "text/x-python",
   "name": "python",
   "nbconvert_exporter": "python",
   "pygments_lexer": "ipython3",
   "version": "3.8.18"
  }
 },
 "nbformat": 4,
 "nbformat_minor": 2
}
