{
 "cells": [
  {
   "cell_type": "code",
   "execution_count": null,
   "metadata": {},
   "outputs": [],
   "source": [
    "import torch\n",
    "import torch.backends.cudnn as cudnn\n",
    "import torch.distributed as dist\n",
    "import torch.nn.functional as F\n",
    "import os\n",
    "import matplotlib.pyplot as plt\n",
    "from train_test import train, test, train_kd\n",
    "from vit import ViT\n",
    "from vit_CNNFF import ViTCNNFF\n",
    "from helpers import count_parameters\n",
    "from plotter import plot_feature_maps, plot_loss_accuracy\n",
    "from data_loader import (\n",
    "    get_data_loader,\n",
    "    load_checkpoint,\n",
    "    load_lists_from_file,\n",
    "    get_random_image,\n",
    ")\n"
   ]
  },
  {
   "cell_type": "code",
   "execution_count": null,
   "metadata": {},
   "outputs": [],
   "source": [
    "torch.manual_seed(42)"
   ]
  },
  {
   "cell_type": "code",
   "execution_count": null,
   "metadata": {},
   "outputs": [],
   "source": [
    "train_loader, test_loader = get_data_loader(\n",
    "    80, 2, \"datasets/cifar-10/cifar-10-python\", download=True\n",
    ")"
   ]
  },
  {
   "cell_type": "code",
   "execution_count": null,
   "metadata": {},
   "outputs": [],
   "source": [
    "base_model = ViT(\n",
    "    image_size=32,\n",
    "    patch_size=4,\n",
    "    num_classes=100,\n",
    "    dim=64,\n",
    "    depth=3,\n",
    "    heads=4,\n",
    "    mlp_dim=128,\n",
    "    dropout=0.1,\n",
    ").to(\"cpu\") #cpu for feature visualisation\n",
    "base_model_save_path = \"save_model/cifar-100/vit16_base\"\n",
    "base_model_load_path = f\"{base_model_save_path}/best_model.pt\"\n",
    "print(f\"Total parameters:{count_parameters(base_model)}\")"
   ]
  },
  {
   "cell_type": "code",
   "execution_count": null,
   "metadata": {},
   "outputs": [],
   "source": [
    "CNNFF_model = ViTCNNFF(\n",
    "    image_size=32,\n",
    "    patch_size=4,\n",
    "    num_classes=100,\n",
    "    dim=64,\n",
    "    depth=3,\n",
    "    heads=4,\n",
    "    mlp_dim=128,\n",
    "    dropout=0.1,\n",
    ").to(\"cpu\")#cpu for feature visualisation\n",
    "CNNFF_model_save_path = \"save_model/cifar-100/vit16_CNNFF\"\n",
    "CNNFF_model_load_path = f\"{CNNFF_model_save_path}/best_model.pt\"\n",
    "print(f\"Total parameters:{count_parameters(CNNFF_model)}\")"
   ]
  },
  {
   "cell_type": "code",
   "execution_count": null,
   "metadata": {},
   "outputs": [],
   "source": [
    "x,img=get_random_image('bee')"
   ]
  },
  {
   "cell_type": "code",
   "execution_count": null,
   "metadata": {},
   "outputs": [],
   "source": [
    "# train(\n",
    "#     base_model,\n",
    "#     train_loader,\n",
    "#     test_loader,\n",
    "#     epochs=100,\n",
    "#     learning_rate=0.001,\n",
    "#     device=\"cuda\",\n",
    "#     weight_decay=0.0005,\n",
    "#     save_path=base_model_save_path,\n",
    "# )"
   ]
  },
  {
   "cell_type": "code",
   "execution_count": null,
   "metadata": {},
   "outputs": [],
   "source": [
    "load_checkpoint(base_model,base_model_load_path)\n",
    "test(base_model,test_loader,device=\"cpu\")"
   ]
  },
  {
   "cell_type": "code",
   "execution_count": null,
   "metadata": {},
   "outputs": [],
   "source": [
    "plot_feature_maps(base_model,x,img,device='cpu')"
   ]
  },
  {
   "cell_type": "code",
   "execution_count": null,
   "metadata": {},
   "outputs": [],
   "source": [
    "# train(\n",
    "#     CNNFF_model,\n",
    "#     train_loader,\n",
    "#     test_loader,\n",
    "#     epochs=100,\n",
    "#     learning_rate=0.001,\n",
    "#     device=\"cuda\",\n",
    "#     weight_decay=0.0005,\n",
    "#     save_path=CNNFF_model_save_path,\n",
    "# )"
   ]
  },
  {
   "cell_type": "code",
   "execution_count": null,
   "metadata": {},
   "outputs": [],
   "source": [
    "load_checkpoint(CNNFF_model,CNNFF_model_load_path)\n",
    "test(CNNFF_model,test_loader,device='cpu')"
   ]
  },
  {
   "cell_type": "code",
   "execution_count": null,
   "metadata": {},
   "outputs": [],
   "source": [
    "plot_feature_maps(base_model,x,img)"
   ]
  },
  {
   "cell_type": "code",
   "execution_count": null,
   "metadata": {},
   "outputs": [],
   "source": []
  }
 ],
 "metadata": {
  "kernelspec": {
   "display_name": "base",
   "language": "python",
   "name": "python3"
  },
  "language_info": {
   "codemirror_mode": {
    "name": "ipython",
    "version": 3
   },
   "file_extension": ".py",
   "mimetype": "text/x-python",
   "name": "python",
   "nbconvert_exporter": "python",
   "pygments_lexer": "ipython3",
   "version": "3.8.18"
  }
 },
 "nbformat": 4,
 "nbformat_minor": 2
}
