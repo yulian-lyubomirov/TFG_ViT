{
 "cells": [
  {
   "cell_type": "code",
   "execution_count": null,
   "metadata": {},
   "outputs": [],
   "source": [
    "import torch\n",
    "import torch.nn as nn\n",
    "import torch.backends.cudnn as cudnn\n",
    "import torch.distributed as dist\n",
    "import torch.nn.utils.prune as prune\n",
    "import torch.nn.functional as F\n",
    "import os\n",
    "import time\n",
    "import argparse\n",
    "import datetime\n",
    "import numpy as np\n",
    "import torch.optim as optim\n",
    "import torchvision.transforms as transforms\n",
    "import torchvision.datasets as datasets\n",
    "from timm.loss import LabelSmoothingCrossEntropy, SoftTargetCrossEntropy\n",
    "from timm.utils import accuracy, AverageMeter\n",
    "import matplotlib.pyplot as plt\n",
    "from timm.scheduler.scheduler import Scheduler\n",
    "from train_test import train, test\n",
    "from helpers import get_data_loader\n",
    "from model import ViT\n",
    "from helpers import load_checkpoint"
   ]
  },
  {
   "cell_type": "code",
   "execution_count": null,
   "metadata": {},
   "outputs": [],
   "source": [
    "torch.manual_seed(42)"
   ]
  },
  {
   "cell_type": "code",
   "execution_count": null,
   "metadata": {},
   "outputs": [],
   "source": [
    "train_loader, test_loader = get_data_loader(\n",
    "    3000, 2, \"datasets/cifar-100/cifar-100-python\", download=True\n",
    ")"
   ]
  },
  {
   "cell_type": "code",
   "execution_count": null,
   "metadata": {},
   "outputs": [],
   "source": [
    "# torch.norm(student_model.transformer.layers[0].weight).item()"
   ]
  },
  {
   "cell_type": "code",
   "execution_count": null,
   "metadata": {},
   "outputs": [],
   "source": [
    "teacher_model = ViT(\n",
    "    image_size=224,\n",
    "    patch_size=16,\n",
    "    num_classes=100,\n",
    "    dim=768,\n",
    "    depth=7,\n",
    "    heads=12,\n",
    "    mlp_dim=512,\n",
    "    dropout=0.1,\n",
    ").to(\"cuda\")\n",
    "teacher_save_path = \"save_model/cifar-100/vit_16_teacher_cifar-100\"\n",
    "\n",
    "teacher_load_path = f\"{teacher_save_path}/best_model.pt\"\n",
    "train(\n",
    "    teacher_model,\n",
    "    train_loader,\n",
    "    test_loader,\n",
    "    epochs=100,\n",
    "    learning_rate=0.0001,\n",
    "    device=\"cuda\",\n",
    "    save_path=teacher_save_path,\n",
    "    # load_path=teacher_load_path\n",
    ")"
   ]
  },
  {
   "cell_type": "code",
   "execution_count": null,
   "metadata": {},
   "outputs": [],
   "source": [
    "load_checkpoint(\n",
    "    teacher_model, \"save_model/cifar-100/vit_16_teacher_cifar-100/best_model.pt\"\n",
    ")\n",
    "test(teacher_model, test_loader, device=\"cuda\")"
   ]
  },
  {
   "cell_type": "code",
   "execution_count": null,
   "metadata": {},
   "outputs": [],
   "source": [
    "student_base_save_path = \"save_model/cifar-100/vit_16_student_base_cifar-100\"\n",
    "student_base_model = ViT(\n",
    "    image_size=224,\n",
    "    patch_size=16,\n",
    "    num_classes=100,\n",
    "    dim=768,\n",
    "    depth=6,\n",
    "    heads=6,\n",
    "    mlp_dim=512,\n",
    "    dropout=0.1,\n",
    ").to(\"cuda\")\n",
    "\n",
    "train(\n",
    "    student_base_model,\n",
    "    train_loader,\n",
    "    test_loader,\n",
    "    epochs=100,\n",
    "    learning_rate=0.0001,\n",
    "    device=\"cuda\",\n",
    "    save_path=student_base_save_path,\n",
    ")"
   ]
  },
  {
   "cell_type": "code",
   "execution_count": null,
   "metadata": {},
   "outputs": [],
   "source": [
    "load_checkpoint(\n",
    "    student_base_model,\n",
    "    \"save_model/cifar-100/vit_16_student_base_cifar-100/best_model.pt\",\n",
    ")\n",
    "test(student_base_model, test_loader)"
   ]
  },
  {
   "cell_type": "code",
   "execution_count": null,
   "metadata": {},
   "outputs": [],
   "source": [
    "student_kd_save_path = \"save_model/cifar-100/vit_16_student_kd_cifar-100\"\n",
    "student_kd = ViT(\n",
    "    image_size=224,\n",
    "    patch_size=16,\n",
    "    num_classes=100,\n",
    "    dim=768,\n",
    "    depth=6,\n",
    "    heads=6,\n",
    "    mlp_dim=512,\n",
    "    dropout=0.1,\n",
    ").to(\"cuda\")\n",
    "\n",
    "teacher_load_path = f\"{teacher_save_path}/best_model.pt\"\n",
    "\n",
    "train_kd(\n",
    "    student_kd,\n",
    "    teacher_model,\n",
    "    train_loader,\n",
    "    test_loader,\n",
    "    T=2,\n",
    "    soft_target_loss_weight=0.3,\n",
    "    ce_loss_weight=0.7,\n",
    "    epochs=100,\n",
    "    learning_rate=0.0001,\n",
    "    save_path=student_kd_save_path,\n",
    "    load_path_teacher=teacher_load_path,\n",
    ")"
   ]
  },
  {
   "cell_type": "code",
   "execution_count": null,
   "metadata": {},
   "outputs": [],
   "source": [
    "load_checkpoint(\n",
    "    student_kd, \"save_model/cifar-100/vit_16_student_kd_cifar-100/best_model.pt\"\n",
    ")\n",
    "test(student_kd, test_loader)"
   ]
  },
  {
   "cell_type": "code",
   "execution_count": null,
   "metadata": {},
   "outputs": [],
   "source": [
    "model_size_bytes = sum(\n",
    "    param.numel() for param in student_kd.parameters() if param.requires_grad\n",
    ")"
   ]
  },
  {
   "cell_type": "code",
   "execution_count": null,
   "metadata": {},
   "outputs": [],
   "source": [
    "for name, layer in model.named_children():\n",
    "    print(name)"
   ]
  },
  {
   "cell_type": "code",
   "execution_count": null,
   "metadata": {},
   "outputs": [],
   "source": [
    "module = model.transformer.layers[0]"
   ]
  },
  {
   "cell_type": "code",
   "execution_count": null,
   "metadata": {},
   "outputs": [],
   "source": [
    "attention = module[0].fn"
   ]
  },
  {
   "cell_type": "code",
   "execution_count": null,
   "metadata": {},
   "outputs": [],
   "source": [
    "print(list(attention.named_parameters()))"
   ]
  },
  {
   "cell_type": "code",
   "execution_count": null,
   "metadata": {},
   "outputs": [],
   "source": [
    "linear_layer = attention.to_qkv"
   ]
  },
  {
   "cell_type": "code",
   "execution_count": null,
   "metadata": {},
   "outputs": [],
   "source": [
    "linear_layer"
   ]
  },
  {
   "cell_type": "code",
   "execution_count": null,
   "metadata": {},
   "outputs": [],
   "source": [
    "prune.random_unstructured(linear_layer, name=\"weight\", amount=0.3)"
   ]
  },
  {
   "cell_type": "code",
   "execution_count": null,
   "metadata": {},
   "outputs": [],
   "source": [
    "model.transformer.layers[0][0].fn.to_qkv.weight"
   ]
  }
 ],
 "metadata": {
  "kernelspec": {
   "display_name": ".env",
   "language": "python",
   "name": "python3"
  },
  "language_info": {
   "codemirror_mode": {
    "name": "ipython",
    "version": 3
   },
   "file_extension": ".py",
   "mimetype": "text/x-python",
   "name": "python",
   "nbconvert_exporter": "python",
   "pygments_lexer": "ipython3",
   "version": "3.8.18"
  }
 },
 "nbformat": 4,
 "nbformat_minor": 2
}
