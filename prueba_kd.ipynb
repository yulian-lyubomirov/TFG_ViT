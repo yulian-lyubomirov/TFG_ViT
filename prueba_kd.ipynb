{
 "cells": [
  {
   "cell_type": "code",
   "execution_count": null,
   "metadata": {},
   "outputs": [],
   "source": [
    "import torch\n",
    "import torch.nn as nn\n",
    "import torch.backends.cudnn as cudnn\n",
    "import torch.distributed as dist\n",
    "import torch.nn.utils.prune as prune\n",
    "import torch.nn.functional as F\n",
    "import os\n",
    "import numpy as np\n",
    "import matplotlib.pyplot as plt\n",
    "from train_test import train, test,train_kd\n",
    "from data_loader import get_data_loader,load_checkpoint\n",
    "from model import ViT\n",
    "from helpers import count_parameters"
   ]
  },
  {
   "cell_type": "code",
   "execution_count": null,
   "metadata": {},
   "outputs": [],
   "source": [
    "torch.manual_seed(42)"
   ]
  },
  {
   "cell_type": "code",
   "execution_count": null,
   "metadata": {},
   "outputs": [],
   "source": [
    "train_loader, test_loader = get_data_loader(\n",
    "    80, 2, \"datasets/cifar-10/cifar-10-python\", download=True\n",
    ")"
   ]
  },
  {
   "cell_type": "code",
   "execution_count": null,
   "metadata": {},
   "outputs": [],
   "source": [
    "teacher_model = ViT(\n",
    "    image_size=32,\n",
    "    patch_size=4,\n",
    "    num_classes=100,\n",
    "    dim=64,\n",
    "    depth=3,\n",
    "    heads=4,\n",
    "    mlp_dim=128,\n",
    "    distilling=False,\n",
    "    dropout=0.1,\n",
    "    CNN_FF=True\n",
    ").to(\"cuda\")\n",
    "\n",
    "teacher_save_path = \"save_model/cifar-10/vit16_teacher_cifar-10\"\n",
    "teacher_load_path = f\"{teacher_save_path}/best_model.pt\"\n",
    "\n",
    "student_kd_save_path = \"save_model/cifar-10/vit16_student_kd_cifar-10\"\n",
    "\n",
    "student_kd = ViT(\n",
    "    image_size=32,\n",
    "    patch_size=4,\n",
    "    num_classes=100,\n",
    "    dim=64,\n",
    "    depth=2,\n",
    "    heads=2,\n",
    "    mlp_dim=128,\n",
    "    distilling=False,\n",
    "    dropout=0.1,\n",
    "    CNN_FF=True\n",
    "\n",
    ").to(\"cuda\")\n"
   ]
  },
  {
   "cell_type": "code",
   "execution_count": null,
   "metadata": {},
   "outputs": [],
   "source": [
    "\n",
    "train_kd(\n",
    "    student_kd,\n",
    "    teacher_model,\n",
    "    train_loader,\n",
    "    test_loader,\n",
    "    T=20,\n",
    "    alpha=0.3,\n",
    "    epochs=100,\n",
    "    learning_rate=0.001,\n",
    "    device='cuda',\n",
    "    weight_decay=0.0005,\n",
    "    save_path=student_kd_save_path,\n",
    "    load_path_teacher=teacher_load_path,\n",
    ")"
   ]
  },
  {
   "cell_type": "code",
   "execution_count": null,
   "metadata": {},
   "outputs": [],
   "source": [
    "train(\n",
    "    teacher_model,\n",
    "    train_loader,\n",
    "    test_loader,\n",
    "    epochs=500,\n",
    "    learning_rate=0.0001,\n",
    "    device=\"cuda\",\n",
    "    weight_decay=0.0005,\n",
    "    save_path=teacher_save_path,\n",
    "    # load_path=teacher_load_path\n",
    ")"
   ]
  },
  {
   "cell_type": "code",
   "execution_count": null,
   "metadata": {},
   "outputs": [],
   "source": [
    "print(f\"Total number of parameters: {count_parameters(student_kd)}\")"
   ]
  },
  {
   "cell_type": "code",
   "execution_count": null,
   "metadata": {},
   "outputs": [],
   "source": [
    "student_base_save_path = \"save_model/cifar-100/vit_16_student_base_cifar-100\"\n",
    "student_base_model = ViT(\n",
    "    image_size=32,\n",
    "    patch_size=4,\n",
    "    num_classes=100,\n",
    "    dim=64,\n",
    "    depth=2,\n",
    "    heads=2,\n",
    "    mlp_dim=128,\n",
    "    distilling=False,\n",
    "    dropout=0.1,\n",
    "    CNN_FF=True\n",
    ").to(\"cuda\")\n",
    "\n",
    "train(\n",
    "    student_base_model,\n",
    "    train_loader,\n",
    "    test_loader,\n",
    "    epochs=100,\n",
    "    learning_rate=0.001,\n",
    "    weight_decay=0.0005,\n",
    "    device=\"cuda\",\n",
    "    save_path=student_base_save_path,\n",
    ")"
   ]
  },
  {
   "cell_type": "code",
   "execution_count": null,
   "metadata": {},
   "outputs": [],
   "source": [
    "load_checkpoint(teacher_model,teacher_load_path)"
   ]
  },
  {
   "cell_type": "code",
   "execution_count": null,
   "metadata": {},
   "outputs": [],
   "source": [
    "test(teacher_model,test_loader,'cuda')"
   ]
  },
  {
   "cell_type": "code",
   "execution_count": null,
   "metadata": {},
   "outputs": [],
   "source": [
    "pruning_method = prune.L1Unstructured"
   ]
  },
  {
   "cell_type": "code",
   "execution_count": null,
   "metadata": {},
   "outputs": [],
   "source": [
    "for name, module in teacher_model.named_modules():\n",
    "    if isinstance(module, nn.Linear):\n",
    "        prune.ln_structured(module, name='weight', amount=0.9, n=1, dim=0)\n",
    "        print(module)\n"
   ]
  },
  {
   "cell_type": "code",
   "execution_count": null,
   "metadata": {},
   "outputs": [],
   "source": [
    "teacher_model"
   ]
  },
  {
   "cell_type": "code",
   "execution_count": null,
   "metadata": {},
   "outputs": [],
   "source": [
    "for name, layer in teacher_model.named_children():\n",
    "    print(name)"
   ]
  },
  {
   "cell_type": "code",
   "execution_count": null,
   "metadata": {},
   "outputs": [],
   "source": [
    "module = teacher_model.transformer.layers[0]"
   ]
  },
  {
   "cell_type": "code",
   "execution_count": null,
   "metadata": {},
   "outputs": [],
   "source": [
    "for name, param in teacher_model.named_parameters():\n",
    "    if \"bias\" in name:\n",
    "        param= nn.Parameter(torch.sparse.FloatTensor(param.shape).to('cuda'))\n",
    "        print(param)\n",
    "    # else:\n",
    "    #     print(param)\n"
   ]
  },
  {
   "cell_type": "code",
   "execution_count": null,
   "metadata": {},
   "outputs": [],
   "source": [
    "for name, module in teacher_model.named_modules():\n",
    "    print(module.transformer.layers[0][0].fn.to_qkv.weight)"
   ]
  },
  {
   "cell_type": "code",
   "execution_count": null,
   "metadata": {},
   "outputs": [],
   "source": [
    "module"
   ]
  },
  {
   "cell_type": "code",
   "execution_count": null,
   "metadata": {},
   "outputs": [],
   "source": [
    "attention = module[0].fn"
   ]
  },
  {
   "cell_type": "code",
   "execution_count": null,
   "metadata": {},
   "outputs": [],
   "source": [
    "print(list(attention.named_parameters()))"
   ]
  },
  {
   "cell_type": "code",
   "execution_count": null,
   "metadata": {},
   "outputs": [],
   "source": [
    "linear_layer = attention.to_qkv"
   ]
  },
  {
   "cell_type": "code",
   "execution_count": null,
   "metadata": {},
   "outputs": [],
   "source": [
    "linear_layer"
   ]
  },
  {
   "cell_type": "code",
   "execution_count": null,
   "metadata": {},
   "outputs": [],
   "source": [
    "prune.random_unstructured(linear_layer, name=\"weight\", amount=0.3)"
   ]
  },
  {
   "cell_type": "code",
   "execution_count": null,
   "metadata": {},
   "outputs": [],
   "source": [
    "teacher_model.transformer.layers[0][0].fn.to_qkv.weight"
   ]
  },
  {
   "cell_type": "code",
   "execution_count": null,
   "metadata": {},
   "outputs": [],
   "source": []
  },
  {
   "cell_type": "code",
   "execution_count": null,
   "metadata": {},
   "outputs": [],
   "source": []
  }
 ],
 "metadata": {
  "kernelspec": {
   "display_name": ".env",
   "language": "python",
   "name": "python3"
  },
  "language_info": {
   "codemirror_mode": {
    "name": "ipython",
    "version": 3
   },
   "file_extension": ".py",
   "mimetype": "text/x-python",
   "name": "python",
   "nbconvert_exporter": "python",
   "pygments_lexer": "ipython3",
   "version": "3.8.18"
  }
 },
 "nbformat": 4,
 "nbformat_minor": 2
}
