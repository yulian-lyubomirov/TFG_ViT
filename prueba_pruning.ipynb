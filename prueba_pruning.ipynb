{
 "cells": [
  {
   "cell_type": "code",
   "execution_count": 1,
   "metadata": {},
   "outputs": [],
   "source": [
    "import torch\n",
    "import torch.nn as nn\n",
    "from train_test import test, train, train_kd, test_batch\n",
    "from data_loader import get_data_loader,load_checkpoint\n",
    "from vit import ViT\n",
    "from vit_CNNFF import ViTCNNFF\n",
    "from helpers import count_parameters\n",
    "import time\n",
    "\n",
    "import torch.nn.utils.prune as prune\n",
    "import torch.nn.functional as F"
   ]
  },
  {
   "cell_type": "code",
   "execution_count": 2,
   "metadata": {},
   "outputs": [
    {
     "name": "stdout",
     "output_type": "stream",
     "text": [
      "Files already downloaded and verified\n",
      "Files already downloaded and verified\n"
     ]
    }
   ],
   "source": [
    "torch.manual_seed(42)\n",
    "train_loader, test_loader = get_data_loader(\n",
    "    1024, 2, \"datasets/cifar-100/cifar-100-python\", download=True\n",
    ")"
   ]
  },
  {
   "cell_type": "code",
   "execution_count": 3,
   "metadata": {},
   "outputs": [],
   "source": [
    "model = ViTCNNFF(\n",
    "    image_size=32,\n",
    "    patch_size=4,\n",
    "    num_classes=100,\n",
    "    dim=64,\n",
    "    depth=3,\n",
    "    heads=4,\n",
    "    mlp_dim=128,\n",
    "    dropout=0.1,\n",
    ").to(\"cuda\")\n",
    "model_base= ViTCNNFF(\n",
    "    image_size=32,\n",
    "    patch_size=4,\n",
    "    num_classes=100,\n",
    "    dim=64,\n",
    "    depth=3,\n",
    "    heads=4,\n",
    "    mlp_dim=128,\n",
    "    dropout=0.1,\n",
    ").to(\"cuda\")\n"
   ]
  },
  {
   "cell_type": "code",
   "execution_count": 4,
   "metadata": {},
   "outputs": [
    {
     "name": "stdout",
     "output_type": "stream",
     "text": [
      "Test Accuracy: 57.79%\n"
     ]
    },
    {
     "data": {
      "text/plain": [
       "57.79"
      ]
     },
     "execution_count": 4,
     "metadata": {},
     "output_type": "execute_result"
    }
   ],
   "source": [
    "load_checkpoint(model, \"save_model/cifar-100/vit16_CNNFF/best_model.pt\")\n",
    "\n",
    "test(model, test_loader, device=\"cuda\")"
   ]
  },
  {
   "cell_type": "code",
   "execution_count": null,
   "metadata": {},
   "outputs": [],
   "source": [
    "for name, module in model.named_modules():\n",
    "    if isinstance(module, nn.Linear):\n",
    "        m=prune.ln_structured(module, name=\"weight\", amount=0.5, n=2, dim=0)\n",
    "        m=prune.remove(m,name=\"weight\")\n",
    "        print(f\"Pruned {name}\")"
   ]
  },
  {
   "cell_type": "code",
   "execution_count": null,
   "metadata": {},
   "outputs": [],
   "source": [
    "# layers = list(model.transformer.layers[0][1].net.children())\n",
    "\n",
    "# linear_layer = layers[0]\n",
    "\n",
    "# weights = linear_layer.weight\n",
    "# weights\n",
    "# model.transformer.layers[0][0].to_qkv.weight"
   ]
  },
  {
   "cell_type": "code",
   "execution_count": null,
   "metadata": {},
   "outputs": [],
   "source": [
    "for layer in model.modules():\n",
    "    if isinstance(layer, nn.Linear):\n",
    "        for param_name, param in layer.named_parameters():\n",
    "            sparse_param = param.cpu().to_sparse()\n",
    "            sparse_param = sparse_param.to(\"cuda\")\n",
    "            sparse_param = nn.Parameter(sparse_param)\n",
    "            setattr(layer, param_name, sparse_param)\n"
   ]
  },
  {
   "cell_type": "code",
   "execution_count": null,
   "metadata": {},
   "outputs": [],
   "source": [
    "batch_array=[]\n",
    "\n",
    "for batch in test_loader:\n",
    "    batch_array.append(batch)   "
   ]
  },
  {
   "cell_type": "code",
   "execution_count": null,
   "metadata": {},
   "outputs": [],
   "source": [
    "inference_time_base=0\n",
    "start_time = time.time()\n",
    "for image_batch in batch_array:\n",
    "    with torch.no_grad():\n",
    "        test_batch(model, image_batch[0], device=\"cuda\")\n",
    "inference_time_base += time.time() - start_time\n",
    "print(f\"model_base_time: {inference_time_base} \")\n",
    "\n"
   ]
  },
  {
   "cell_type": "code",
   "execution_count": null,
   "metadata": {},
   "outputs": [],
   "source": [
    "inference_time_pruned=0\n",
    "start_time = time.time()\n",
    "for image_batch in batch_array:\n",
    "    with torch.no_grad():\n",
    "        test_batch(model_pruned, image_batch[0], device=\"cuda\")\n",
    "inference_time_pruned += time.time() - start_time\n",
    "print(f\"model_pruned_time: {inference_time_pruned} \")"
   ]
  },
  {
   "cell_type": "code",
   "execution_count": null,
   "metadata": {},
   "outputs": [],
   "source": [
    "_ = torch.manual_seed (2022)\n",
    "s = ((torch.randn (3, 5) > 0.0) * torch.randn (3, 5)).to_sparse()   \n",
    "s\n",
    "\n",
    "lin = torch.nn.Linear (5, 3)\n",
    "t = lin (s)\n",
    "t"
   ]
  },
  {
   "cell_type": "code",
   "execution_count": null,
   "metadata": {},
   "outputs": [],
   "source": []
  }
 ],
 "metadata": {
  "kernelspec": {
   "display_name": "base",
   "language": "python",
   "name": "python3"
  },
  "language_info": {
   "codemirror_mode": {
    "name": "ipython",
    "version": 3
   },
   "file_extension": ".py",
   "mimetype": "text/x-python",
   "name": "python",
   "nbconvert_exporter": "python",
   "pygments_lexer": "ipython3",
   "version": "3.8.18"
  }
 },
 "nbformat": 4,
 "nbformat_minor": 2
}
