{
 "cells": [
  {
   "cell_type": "code",
   "execution_count": null,
   "metadata": {},
   "outputs": [],
   "source": [
    "import torch\n",
    "import torch.nn as nn\n",
    "import os\n",
    "import numpy as np\n",
    "import torch.optim as optim\n",
    "import matplotlib.pyplot as plt\n",
    "from train_test import test,train,train_kd,test_compare_inference\n",
    "from helpers import get_data_loader,quantize_model\n",
    "from model import ViT\n",
    "from helpers import load_checkpoint,get_model_size_bytes\n",
    "import time\n",
    "\n",
    "import torch.nn.utils.prune as prune\n",
    "import torch.nn.functional as F"
   ]
  },
  {
   "cell_type": "code",
   "execution_count": null,
   "metadata": {},
   "outputs": [],
   "source": [
    "torch.manual_seed(42)\n",
    "train_loader, test_loader = get_data_loader(\n",
    "    1024, 2, \"datasets/cifar-100/cifar-100-python\", download=True\n",
    ")"
   ]
  },
  {
   "cell_type": "code",
   "execution_count": null,
   "metadata": {},
   "outputs": [],
   "source": [
    "model = ViT(\n",
    "    image_size=32,\n",
    "    patch_size=4,\n",
    "    num_classes=100,\n",
    "    dim=128,\n",
    "    depth=3,\n",
    "    heads=3,\n",
    "    mlp_dim=256,\n",
    "    dropout=0.1,\n",
    ").to(\"cuda\")\n",
    "\n",
    "\n",
    "model_pruned = ViT(\n",
    "    image_size=32,\n",
    "    patch_size=4,\n",
    "    num_classes=100,\n",
    "    dim=128,\n",
    "    depth=3,\n",
    "    heads=3,\n",
    "    mlp_dim=256,\n",
    "    dropout=0.1,\n",
    ").to(\"cuda\")\n"
   ]
  },
  {
   "cell_type": "code",
   "execution_count": null,
   "metadata": {},
   "outputs": [],
   "source": [
    "\n",
    "train(\n",
    "    model_pruned,\n",
    "    train_loader,\n",
    "    test_loader,\n",
    "    epochs=50,\n",
    "    learning_rate=0.001,\n",
    "    device=\"cuda\",\n",
    "    pruning_method='structured',\n",
    "    weight_decay=0.0005,\n",
    ")"
   ]
  },
  {
   "cell_type": "code",
   "execution_count": null,
   "metadata": {},
   "outputs": [],
   "source": [
    "load_checkpoint(\n",
    "    model, \"save_model/cifar-100/vit_16_teacher_cifar-100/best_model.pt\"\n",
    ")\n",
    "\n",
    "test(model, test_loader, device=\"cuda\")\n",
    "\n",
    "model_pruned=model"
   ]
  },
  {
   "cell_type": "code",
   "execution_count": null,
   "metadata": {},
   "outputs": [],
   "source": [
    "test(model_pruned, test_loader, device=\"cuda\")\n"
   ]
  },
  {
   "cell_type": "code",
   "execution_count": null,
   "metadata": {},
   "outputs": [],
   "source": [
    "\n",
    "def prune_tensors(model):\n",
    "    for i in range(3):\n",
    "        tensor_qkv = model.transformer.layers[i][0].fn.to_qkv.weight\n",
    "        tensor_to_out = model.transformer.layers[i][0].fn.to_out[0].weight\n",
    "        tensor_net0 = model.transformer.layers[i][1].fn.net[0].weight\n",
    "        tensor_net3 = model.transformer.layers[i][1].fn.net[3].weight\n",
    "\n",
    "        for tensor_name, tensor in [(\"to_qkv\", tensor_qkv), (\"to_out\", tensor_to_out), (\"net0\", tensor_net0), (\"net3\", tensor_net3)]:\n",
    "            print(tensor_name)\n",
    "            # Check if the tensor has any rows\n",
    "            # if tensor.size(0) == 0:\n",
    "            #     continue  # Skip empty tensor\n",
    "            \n",
    "            # Iterate over the rows of the tensor in reverse order\n",
    "            for j in range(tensor.size(0)-1, -1, -1):\n",
    "                # Check if all elements in the current row are zero\n",
    "                if torch.all(tensor[j] == 0):\n",
    "                    # Remove the row\n",
    "                    tensor = torch.cat((tensor[:j], tensor[j+1:]), dim=0)\n",
    "        \n",
    "            if tensor_name == \"to_qkv\":\n",
    "                model.transformer.layers[i][0].fn.to_qkv.weight = tensor\n",
    "            elif tensor_name == \"to_out\":\n",
    "                model.transformer.layers[i][0].fn.to_out[0].weight = tensor\n",
    "            elif tensor_name == \"net0\":\n",
    "                model.transformer.layers[i][1].fn.net[0].weight = tensor\n",
    "            elif tensor_name == \"net3\":\n",
    "                model.transformer.layers[i][1].fn.net[3].weight = tensor\n",
    "\n",
    "\n"
   ]
  },
  {
   "cell_type": "code",
   "execution_count": null,
   "metadata": {},
   "outputs": [],
   "source": [
    "model_pruned.transformer.layers[0][1].fn.net[0].weight.size()"
   ]
  },
  {
   "cell_type": "code",
   "execution_count": null,
   "metadata": {},
   "outputs": [],
   "source": [
    "prune_tensors(model_pruned)"
   ]
  },
  {
   "cell_type": "code",
   "execution_count": null,
   "metadata": {},
   "outputs": [],
   "source": [
    "model_pruned.transformer.layers[0][1].fn.net[0].weight.size()"
   ]
  },
  {
   "cell_type": "code",
   "execution_count": null,
   "metadata": {},
   "outputs": [],
   "source": [
    "for param in model_pruned.parameters():\n",
    "    param = nn.Parameter(torch.sparse_coo_tensor(param.shape).to(\"cuda\"))"
   ]
  },
  {
   "cell_type": "code",
   "execution_count": null,
   "metadata": {},
   "outputs": [],
   "source": [
    "for name, module in model_pruned.named_modules():\n",
    "    if isinstance(module, nn.Linear):\n",
    "        # Prune the 'weight' parameter of the linear layer\n",
    "        prune.ln_structured(\n",
    "            module,\n",
    "            name='weight',  # Prune the 'weight' parameter\n",
    "            amount=0.2,      # Prune 50% of the connections\n",
    "            n=2,             # Use L2-norm for pruning\n",
    "            dim=0            # Prune along the first dimension (rows)\n",
    "        )\n",
    "        print(f\"Pruned {name}\")"
   ]
  },
  {
   "cell_type": "code",
   "execution_count": null,
   "metadata": {},
   "outputs": [],
   "source": [
    "for name, param in model_pruned.named_parameters():\n",
    "    print(f\"Parameter name: {name}\")\n",
    "    print(param)"
   ]
  },
  {
   "cell_type": "code",
   "execution_count": null,
   "metadata": {},
   "outputs": [],
   "source": [
    "for param_name, param in model_pruned.named_parameters():\n",
    "    if param.requires_grad:\n",
    "\n",
    "        print(param)"
   ]
  },
  {
   "cell_type": "code",
   "execution_count": null,
   "metadata": {},
   "outputs": [],
   "source": [
    "image_batch, label_batch = next(iter(test_loader))\n",
    "image_batch = image_batch.to(\"cuda\")\n",
    "\n",
    "# Test student_base\n",
    "start_time = time.time()\n",
    "with torch.no_grad():\n",
    "    test_compare_inference(model, image_batch,device=\"cuda\")\n",
    "inference_time_base = time.time() - start_time\n",
    "print(f\"model_base_time: {inference_time_base} \")\n",
    "\n",
    "# Test student_kd\n",
    "start_time = time.time()\n",
    "with torch.no_grad():\n",
    "    test_compare_inference(model_pruned, image_batch,device=\"cuda\")\n",
    "inference_time_pruned = time.time() - start_time\n",
    "print(f\"model_pruned: {inference_time_pruned} \")\n"
   ]
  }
 ],
 "metadata": {
  "kernelspec": {
   "display_name": "base",
   "language": "python",
   "name": "python3"
  },
  "language_info": {
   "codemirror_mode": {
    "name": "ipython",
    "version": 3
   },
   "file_extension": ".py",
   "mimetype": "text/x-python",
   "name": "python",
   "nbconvert_exporter": "python",
   "pygments_lexer": "ipython3",
   "version": "3.8.18"
  }
 },
 "nbformat": 4,
 "nbformat_minor": 2
}
