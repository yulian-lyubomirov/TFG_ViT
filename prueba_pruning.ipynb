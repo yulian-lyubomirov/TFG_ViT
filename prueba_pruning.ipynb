{
 "cells": [
  {
   "cell_type": "code",
   "execution_count": null,
   "metadata": {},
   "outputs": [],
   "source": [
    "import torch\n",
    "import torch.nn as nn\n",
    "import os\n",
    "import numpy as np\n",
    "import torch.optim as optim\n",
    "import matplotlib.pyplot as plt\n",
    "from train_test import test, train, train_kd, test_batch\n",
    "from helpers import get_data_loader, quantize_model\n",
    "from model import ViT\n",
    "from helpers import load_checkpoint, get_model_size_bytes\n",
    "import time\n",
    "\n",
    "import torch.nn.utils.prune as prune\n",
    "import torch.nn.functional as F"
   ]
  },
  {
   "cell_type": "code",
   "execution_count": null,
   "metadata": {},
   "outputs": [],
   "source": [
    "torch.manual_seed(42)\n",
    "train_loader, test_loader = get_data_loader(\n",
    "    1024, 2, \"datasets/cifar-100/cifar-100-python\", download=True\n",
    ")"
   ]
  },
  {
   "cell_type": "code",
   "execution_count": null,
   "metadata": {},
   "outputs": [],
   "source": [
    "model = ViT(\n",
    "    image_size=32,\n",
    "    patch_size=4,\n",
    "    num_classes=100,\n",
    "    dim=128,\n",
    "    depth=3,\n",
    "    heads=3,\n",
    "    mlp_dim=256,\n",
    "    dropout=0.1,\n",
    ").to(\"cuda\")\n",
    "\n",
    "\n",
    "model_pruned = ViT(\n",
    "    image_size=32,\n",
    "    patch_size=4,\n",
    "    num_classes=100,\n",
    "    dim=128,\n",
    "    depth=3,\n",
    "    heads=3,\n",
    "    mlp_dim=256,\n",
    "    dropout=0.1,\n",
    ").to(\"cuda\")"
   ]
  },
  {
   "cell_type": "code",
   "execution_count": null,
   "metadata": {},
   "outputs": [],
   "source": [
    "# train(\n",
    "#     model_pruned,\n",
    "#     train_loader,\n",
    "#     test_loader,\n",
    "#     epochs=50,\n",
    "#     learning_rate=0.001,\n",
    "#     device=\"cuda\",\n",
    "#     pruning_method=\"structured\",\n",
    "#     weight_decay=0.0005,\n",
    "# )"
   ]
  },
  {
   "cell_type": "code",
   "execution_count": null,
   "metadata": {},
   "outputs": [],
   "source": [
    "load_checkpoint(model, \"save_model/cifar-100/vit_16_teacher_cifar-100/best_model.pt\")\n",
    "\n",
    "test(model, test_loader, device=\"cuda\")"
   ]
  },
  {
   "cell_type": "code",
   "execution_count": null,
   "metadata": {},
   "outputs": [],
   "source": [
    "test(model_pruned, test_loader, device=\"cuda\")"
   ]
  },
  {
   "cell_type": "code",
   "execution_count": null,
   "metadata": {},
   "outputs": [],
   "source": [
    "for name, module in model_pruned.named_modules():\n",
    "    if isinstance(module, nn.Linear):\n",
    "        m=prune.ln_structured(module, name=\"weight\", amount=0.5, n=2, dim=0)\n",
    "        m=prune.remove(m,name=\"weight\")\n",
    "        print(f\"Pruned {name}\")"
   ]
  },
  {
   "cell_type": "code",
   "execution_count": null,
   "metadata": {},
   "outputs": [],
   "source": [
    "model_pruned.transformer.layers[0][1].fn.net[0].weight.size()"
   ]
  },
  {
   "cell_type": "code",
   "execution_count": null,
   "metadata": {},
   "outputs": [],
   "source": [
    "model_pruned.transformer.layers[0][0].fn.to_qkv.weight"
   ]
  },
  {
   "cell_type": "code",
   "execution_count": null,
   "metadata": {},
   "outputs": [],
   "source": [
    "for layer in model_pruned.modules():\n",
    "    if isinstance(layer, nn.Linear):\n",
    "        for param_name, param in layer.named_parameters():\n",
    "            sparse_param = param.cpu().to_sparse()\n",
    "            sparse_param = sparse_param.to(\"cuda\")\n",
    "            sparse_param = nn.Parameter(sparse_param)\n",
    "            setattr(layer, param_name, sparse_param)\n"
   ]
  },
  {
   "cell_type": "code",
   "execution_count": null,
   "metadata": {},
   "outputs": [],
   "source": [
    "for name, param in model_pruned.named_parameters():\n",
    "    print(f\"Parameter name: {name}\")\n",
    "    print(param)"
   ]
  },
  {
   "cell_type": "code",
   "execution_count": null,
   "metadata": {},
   "outputs": [],
   "source": [
    "batch_array=[]\n",
    "\n",
    "for batch in test_loader:\n",
    "    batch_array.append(batch)   "
   ]
  },
  {
   "cell_type": "code",
   "execution_count": null,
   "metadata": {},
   "outputs": [],
   "source": [
    "inference_time_base=0\n",
    "start_time = time.time()\n",
    "for image_batch in batch_array:\n",
    "    with torch.no_grad():\n",
    "        test_batch(model, image_batch[0], device=\"cuda\")\n",
    "inference_time_base += time.time() - start_time\n",
    "print(f\"model_base_time: {inference_time_base} \")\n",
    "\n"
   ]
  },
  {
   "cell_type": "code",
   "execution_count": null,
   "metadata": {},
   "outputs": [],
   "source": [
    "inference_time_pruned=0\n",
    "start_time = time.time()\n",
    "for image_batch in batch_array:\n",
    "    with torch.no_grad():\n",
    "        test_batch(model_pruned, image_batch[0], device=\"cuda\")\n",
    "inference_time_pruned += time.time() - start_time\n",
    "print(f\"model_pruned_time: {inference_time_pruned} \")"
   ]
  },
  {
   "cell_type": "code",
   "execution_count": null,
   "metadata": {},
   "outputs": [],
   "source": []
  }
 ],
 "metadata": {
  "kernelspec": {
   "display_name": "base",
   "language": "python",
   "name": "python3"
  },
  "language_info": {
   "codemirror_mode": {
    "name": "ipython",
    "version": 3
   },
   "file_extension": ".py",
   "mimetype": "text/x-python",
   "name": "python",
   "nbconvert_exporter": "python",
   "pygments_lexer": "ipython3",
   "version": "3.8.18"
  }
 },
 "nbformat": 4,
 "nbformat_minor": 2
}
